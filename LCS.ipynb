{
 "cells": [
  {
   "cell_type": "code",
   "execution_count": 2,
   "id": "7f88ef2a-cc11-4520-9d7b-bc9f59314ff1",
   "metadata": {},
   "outputs": [],
   "source": [
    "def lcs_length(X, Y):\n",
    "    m = len(X)\n",
    "    n = len(Y)\n",
    "    \n",
    "    # create b and c table(b store string,c store int)\n",
    "    c = [[0] * (n + 1) for row_index in range(m + 1)]\n",
    "    b = [[\"\"] * (n + 1) for row_index in range(m + 1)]\n",
    "    \n",
    "    for i in range(1, m + 1):\n",
    "        for j in range(1, n + 1):\n",
    "            if X[i - 1] == Y[j - 1]:\n",
    "                c[i][j] = c[i - 1][j - 1] + 1\n",
    "                b[i][j] = \"diagonal\"\n",
    "            elif c[i - 1][j] >= c[i][j - 1]:\n",
    "                c[i][j] = c[i - 1][j]\n",
    "                b[i][j] = \"up\"\n",
    "            else:\n",
    "                c[i][j] = c[i][j - 1]\n",
    "                b[i][j] = \"left\"\n",
    "    \n",
    "    return c, b\n",
    "\n",
    "\n",
    "def print_lcs(b, X, i, j):\n",
    "    if i == 0 or j == 0:\n",
    "        return \"\"\n",
    "    if b[i][j] == \"diagonal\":\n",
    "        return print_lcs(b, X, i - 1, j - 1) + X[i - 1]\n",
    "    elif b[i][j] == \"up\":\n",
    "        return print_lcs(b, X, i - 1, j)\n",
    "    else: \n",
    "        return print_lcs(b, X, i, j - 1)"
   ]
  },
  {
   "cell_type": "code",
   "execution_count": 3,
   "id": "dd7adf8e-088d-428a-a506-800475c843c9",
   "metadata": {},
   "outputs": [
    {
     "name": "stdout",
     "output_type": "stream",
     "text": [
      "LCS 的长度为: 6\n",
      "LCS 为: NOQSTW\n"
     ]
    }
   ],
   "source": [
    "S1 = ['M', 'N', 'O', 'P', 'Q', 'R', 'S', 'T', 'U', 'V', 'W']\n",
    "S2 = ['N', 'O', 'Q', 'S', 'T', 'W', 'X', 'Y', 'Z']\n",
    "    \n",
    "c_table, b_table = lcs_length(S1, S2)\n",
    "lcs_result = print_lcs(b_table, S1, len(S1), len(S2))\n",
    "    \n",
    "print(\"LCS 的长度为:\", c_table[len(S1)][len(S2)])\n",
    "print(\"LCS 为:\", lcs_result)"
   ]
  },
  {
   "cell_type": "code",
   "execution_count": null,
   "id": "9876cf20-f91b-4536-8af0-9baec987fc81",
   "metadata": {},
   "outputs": [],
   "source": []
  }
 ],
 "metadata": {
  "kernelspec": {
   "display_name": "Python 3 (ipykernel)",
   "language": "python",
   "name": "python3"
  },
  "language_info": {
   "codemirror_mode": {
    "name": "ipython",
    "version": 3
   },
   "file_extension": ".py",
   "mimetype": "text/x-python",
   "name": "python",
   "nbconvert_exporter": "python",
   "pygments_lexer": "ipython3",
   "version": "3.11.7"
  }
 },
 "nbformat": 4,
 "nbformat_minor": 5
}
