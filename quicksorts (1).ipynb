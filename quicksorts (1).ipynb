{
 "cells": [
  {
   "cell_type": "code",
   "execution_count": 53,
   "id": "0cbe7ca1",
   "metadata": {},
   "outputs": [
    {
     "name": "stdout",
     "output_type": "stream",
     "text": [
      " 0 times run time\n",
      "7.890025153756142e-05\n",
      " 1 times run time\n",
      "0.00011089956387877464\n",
      " 2 times run time\n",
      "8.179992437362671e-05\n",
      " 3 times run time\n",
      "8.330028504133224e-05\n",
      " 4 times run time\n",
      "8.190004155039787e-05\n",
      "[1, 1, 1, 1, 1, 2, 2, 2, 2, 3, 3, 4, 4, 4, 5, 5, 5, 5, 5, 5, 6, 6, 6, 7, 7, 7, 7, 7, 7, 7, 7, 8, 9, 9, 9, 9, 9, 9, 9, 9, 9]\n"
     ]
    }
   ],
   "source": [
    "#Author yifan zhu\n",
    "#this is stanard quicksort and optimization quicksorts implement\n",
    "import random\n",
    "\n",
    "def quicksort(arr,p,r):\n",
    "    if p < r:\n",
    "        q = partition(arr,p,r)\n",
    "        quicksort(arr,p,q-1)\n",
    "        quicksort(arr,q+1,r)\n",
    "    \n",
    "def partition(arr,p,r):\n",
    "    privot = arr[r]\n",
    "    i = p-1\n",
    "    for j in range(p,r):\n",
    "        if arr[j] < privot:\n",
    "            i += 1\n",
    "            arr[i],arr[j] = arr[j],arr[i]\n",
    "    arr[i+1],arr[r] = arr[r],arr[i+1]\n",
    "    return i+1\n",
    "\n",
    "arr = [5, 2, 2, 3, 3, 4, 4, 4, 5, 5, 6, 6, 7, 7, 7, 8, 9, 9, 9, 2, 2, 5, 5, 6,5,7,7,7,7,7,9,9,9,9,9,9,1,1,1,1,1] \n",
    "for i in range(5):\n",
    "    start_time = time.perf_counter()  \n",
    "    quicksort(arr, 0, len(arr) - 1)\n",
    "    end_time = time.perf_counter()  \n",
    "    print(f\" {i} times run time\")\n",
    "    print(end_time - start_time) \n",
    "print(arr)"
   ]
  },
  {
   "cell_type": "code",
   "execution_count": 46,
   "id": "ace34ae7",
   "metadata": {},
   "outputs": [
    {
     "name": "stdout",
     "output_type": "stream",
     "text": [
      " 0 times run time\n",
      "0.0006563998758792877\n",
      " 1 times run time\n",
      "0.0005125999450683594\n",
      " 2 times run time\n",
      "0.0005231997929513454\n",
      " 3 times run time\n",
      "0.000489099882543087\n",
      " 4 times run time\n",
      "0.00048159994184970856\n",
      "[1, 2, 3, 4, 5, 6, 7, 8, 9, 10, 11, 12, 13, 14, 15, 16, 17, 18, 19, 20, 21, 22, 23, 24, 25, 26, 27, 28, 29, 30, 31, 32, 33, 34, 35, 36, 37, 38, 39, 40, 41, 42, 43, 44, 45, 46, 47, 48, 49, 50, 51, 52, 53, 54, 55, 56, 57, 58, 59, 60, 61, 62, 63, 64, 65, 66, 67, 68, 69, 70, 71, 72, 73, 74, 75, 76, 77, 78, 79, 80, 81, 82, 83, 84, 85, 86, 87, 88, 89, 90, 91, 92, 93, 94, 95, 96, 97, 98, 99, 100]\n"
     ]
    }
   ],
   "source": [
    "import random\n",
    "import time\n",
    "\n",
    "def random_quicksort(arr,p,r):\n",
    "    if p < r:\n",
    "        q = random_partition(arr,p,r)\n",
    "        random_quicksort(arr,p,q-1)\n",
    "        random_quicksort(arr,q+1,r)\n",
    "        \n",
    "def random_partition(arr,p,r):\n",
    "    privot_index = random.randint(p, r)\n",
    "    arr[privot_index],arr[r] = arr[r],arr[privot_index]\n",
    "    return partition(arr,p,r)\n",
    "    \n",
    "def partition(arr,p,r):\n",
    "    privot = arr[r]\n",
    "    i = p-1\n",
    "    for j in range(p,r):\n",
    "        if arr[j] < privot:\n",
    "            i += 1\n",
    "            arr[i],arr[j] = arr[j],arr[i]\n",
    "    arr[i+1],arr[r] = arr[r],arr[i+1]\n",
    "    return i+1\n",
    "\n",
    "arr = list(range(1, 101))# test case 1 to 101\n",
    "for i in range(5):\n",
    "    start_time = time.perf_counter()  \n",
    "    random_quicksort(arr, 0, len(arr) - 1)\n",
    "    end_time = time.perf_counter()  \n",
    "    print(f\" {i} times run time\")\n",
    "    print(end_time - start_time) \n",
    "print(arr)"
   ]
  },
  {
   "cell_type": "code",
   "execution_count": 54,
   "id": "59967c2c",
   "metadata": {},
   "outputs": [
    {
     "name": "stdout",
     "output_type": "stream",
     "text": [
      " 0 times run time\n",
      "0.00010150019079446793\n",
      " 1 times run time\n",
      "7.120007649064064e-05\n",
      " 2 times run time\n",
      "6.859982386231422e-05\n",
      " 3 times run time\n",
      "7.340032607316971e-05\n",
      " 4 times run time\n",
      "7.690023630857468e-05\n",
      "[1, 1, 1, 1, 1, 2, 2, 2, 2, 3, 3, 4, 4, 5, 5, 5, 4, 5, 5, 5, 6, 6, 6, 7, 7, 7, 7, 7, 7, 7, 7, 8, 9, 9, 9, 9, 9, 9, 9, 9, 9]\n"
     ]
    }
   ],
   "source": [
    "import random\n",
    "import time\n",
    "\n",
    "def Hoare_quicksort(arr,p,r):\n",
    "    if p < r:\n",
    "        q = Hoare_partition(arr,p,r)\n",
    "        Hoare_quicksort(arr,p,q-1)\n",
    "        Hoare_quicksort(arr,q+1,r)\n",
    "\n",
    "    \n",
    "def Hoare_partition(arr,p,r):\n",
    "    pivot = arr[p]\n",
    "    i = p-1\n",
    "    j = r+1\n",
    "    \n",
    "    while True:\n",
    "        while True:\n",
    "            j-=1\n",
    "            if arr[j] <= pivot:\n",
    "                break\n",
    "        while True:\n",
    "            i+=1\n",
    "            if arr[i] >= pivot: \n",
    "                break\n",
    "        if i<j:\n",
    "            arr[i],arr[j] = arr[j],arr[i]\n",
    "        else:\n",
    "            return j\n",
    "        \n",
    "arr = [5, 2, 2, 3, 3, 4, 4, 4, 5, 5, 6, 6, 7, 7, 7, 8, 9, 9, 9, 2, 2, 5, 5, 6,5,7,7,7,7,7,9,9,9,9,9,9,1,1,1,1,1]\n",
    "for i in range(5):\n",
    "    start_time = time.perf_counter()  \n",
    "    Hoare_quicksort(arr, 0, len(arr) - 1)\n",
    "    end_time = time.perf_counter()  \n",
    "    print(f\" {i} times run time\")\n",
    "    print(end_time - start_time) \n",
    "print(arr)"
   ]
  },
  {
   "cell_type": "code",
   "execution_count": null,
   "id": "bef51f4c",
   "metadata": {},
   "outputs": [],
   "source": []
  }
 ],
 "metadata": {
  "kernelspec": {
   "display_name": "Python 3 (ipykernel)",
   "language": "python",
   "name": "python3"
  },
  "language_info": {
   "codemirror_mode": {
    "name": "ipython",
    "version": 3
   },
   "file_extension": ".py",
   "mimetype": "text/x-python",
   "name": "python",
   "nbconvert_exporter": "python",
   "pygments_lexer": "ipython3",
   "version": "3.11.5"
  }
 },
 "nbformat": 4,
 "nbformat_minor": 5
}
