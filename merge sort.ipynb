{
 "cells": [
  {
   "cell_type": "code",
   "execution_count": 56,
   "id": "bd47776c-e5b3-4c92-9cc5-4a7b4995da3a",
   "metadata": {},
   "outputs": [
    {
     "name": "stdout",
     "output_type": "stream",
     "text": [
      "5+5+5+5+5\n",
      "5+5+5+5+5\n"
     ]
    }
   ],
   "source": [
    "#Auther: yifan zhu\n",
    "#This is a merge sort programm write by python3\n",
    "\n",
    "def merge(a,p,q,r):#//a = array, p = front , q = middle , r = back\n",
    "    nl = q-p+1\n",
    "    nr = r-q\n",
    "    \n",
    "    L = [0]*nl #// create L as nl \n",
    "    R = [0]*nr #// create R as nr\n",
    "\n",
    "    for i in range(0,nl):\n",
    "        L[i] = a[p+i] #copy left array to new array\n",
    "    for j in range(0,nr):\n",
    "        R[j] = a[q+1+j] #copy right array to new array\n",
    "    i = 0\n",
    "    j = 0\n",
    "    k = p\n",
    "    while i < nl and j < nr: # core logic\n",
    "        if L[i] <= R[j]:\n",
    "            a[k] = L[i]\n",
    "            i = i+1\n",
    "        else:\n",
    "            a[k] = R[j]\n",
    "            j = j+1\n",
    "        k = k+1\n",
    "    while i < nl:\n",
    "        a[k] = L[i]\n",
    "        i = i+1\n",
    "        k = k+1\n",
    "    while j < nr:\n",
    "        a[k] = R[j]\n",
    "        j = j+1\n",
    "        k = k+1\n",
    "def merge_sort(a,p,r):\n",
    "    if p >= r: #// array is empty or just 1 element  \n",
    "        return\n",
    "    q = (p+r) // 2; #// find middle pointer \n",
    "    merge_sort(a,p,q) #// left part \n",
    "    merge_sort(a,q+1,r) #// right part\n",
    "    merge(a,p,q,r)\n",
    "    \n",
    "def output(a):\n",
    "    print(a)\n",
    "    a = a.split('+')\n",
    "    a = [int(num) for num in a]\n",
    "    n = len(a)\n",
    "    merge_sort(a,0,n-1)\n",
    "    for i in range(n): \n",
    "        if i < n - 1:\n",
    "            print(a[i], end=\"+\")\n",
    "        else:\n",
    "            print(a[i])\n",
    "\n",
    "\n",
    "\n",
    "output(\"5+5+5+5+5\")\n",
    "\n"
   ]
  },
  {
   "cell_type": "code",
   "execution_count": null,
   "id": "2d27140c-4590-4b5e-a231-3dd115b44b85",
   "metadata": {},
   "outputs": [],
   "source": []
  },
  {
   "cell_type": "code",
   "execution_count": null,
   "id": "ad2b9ee4-3470-4acb-8e58-f0d797c97385",
   "metadata": {},
   "outputs": [],
   "source": []
  }
 ],
 "metadata": {
  "kernelspec": {
   "display_name": "Python 3 (ipykernel)",
   "language": "python",
   "name": "python3"
  },
  "language_info": {
   "codemirror_mode": {
    "name": "ipython",
    "version": 3
   },
   "file_extension": ".py",
   "mimetype": "text/x-python",
   "name": "python",
   "nbconvert_exporter": "python",
   "pygments_lexer": "ipython3",
   "version": "3.11.7"
  }
 },
 "nbformat": 4,
 "nbformat_minor": 5
}
