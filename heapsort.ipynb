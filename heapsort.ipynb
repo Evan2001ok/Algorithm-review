{
 "cells": [
  {
   "cell_type": "code",
   "execution_count": 47,
   "id": "4571aa61-baa8-4c91-be59-732ada3c8708",
   "metadata": {},
   "outputs": [
    {
     "name": "stdout",
     "output_type": "stream",
     "text": [
      "[2, 3, 4, 5, 8, 9, 10]\n"
     ]
    }
   ],
   "source": [
    "#author:yifan zhu\n",
    "#step1 build a maxheap,makesure parent node large than sun node\n",
    "#step2 when maxheap down,swap lastarray value and root array value ,than reduce 1 size\n",
    "#step3 new heap root value compare left and right value find new root  \n",
    "def heapsort(arr):\n",
    "    heapsize = len(arr)\n",
    "    build_maxheap(arr)\n",
    "    for i in range(len(arr)-1,0,-1):\n",
    "        arr[i], arr[0] = arr[0], arr[i]\n",
    "        heapsize -= 1\n",
    "        maxheap(arr,0,heapsize)\n",
    "def build_maxheap(arr):\n",
    "    heapsize = len(arr)\n",
    "    halfsize = len(arr)//2\n",
    "    for i in range(halfsize-1, -1, -1):\n",
    "        maxheap(arr,i,heapsize)\n",
    "def maxheap(arr,i,heapsize):\n",
    "    left = 2*i+1\n",
    "    right = 2*i+2\n",
    "    largest = i\n",
    "    if left < heapsize and arr[left] > arr[largest]:\n",
    "        largest = left\n",
    "\n",
    "    if right < heapsize and arr[right] > arr[largest]:\n",
    "        largest = right\n",
    "        \n",
    "    if i != largest:\n",
    "        arr[i], arr[largest] = arr[largest], arr[i]\n",
    "        maxheap(arr,largest,heapsize)\n",
    "arr = [9, 4, 3, 8, 10, 2, 5]\n",
    "heapsort(arr)\n",
    "print(arr)"
   ]
  },
  {
   "cell_type": "code",
   "execution_count": null,
   "id": "0cd88a0f-4651-4ddc-a941-fc4cd34c9a06",
   "metadata": {},
   "outputs": [],
   "source": []
  }
 ],
 "metadata": {
  "kernelspec": {
   "display_name": "Python 3 (ipykernel)",
   "language": "python",
   "name": "python3"
  },
  "language_info": {
   "codemirror_mode": {
    "name": "ipython",
    "version": 3
   },
   "file_extension": ".py",
   "mimetype": "text/x-python",
   "name": "python",
   "nbconvert_exporter": "python",
   "pygments_lexer": "ipython3",
   "version": "3.11.7"
  }
 },
 "nbformat": 4,
 "nbformat_minor": 5
}
